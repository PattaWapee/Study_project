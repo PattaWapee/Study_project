{
 "cells": [
  {
   "cell_type": "markdown",
   "id": "aabaa6b2-bb41-4219-a2e9-241c370a94cc",
   "metadata": {},
   "source": [
    "# This script is to make pipeline for housing data based on the book"
   ]
  },
  {
   "cell_type": "markdown",
   "id": "140c1410-369a-4bfe-adc1-3c28f8599d3c",
   "metadata": {},
   "source": [
    "## Download data"
   ]
  },
  {
   "cell_type": "code",
   "execution_count": 2,
   "id": "02784110-a5dd-4963-8ed8-5f9ed379e08a",
   "metadata": {},
   "outputs": [],
   "source": [
    "import os\n",
    "import pandas as pd\n",
    "import numpy as np"
   ]
  },
  {
   "cell_type": "code",
   "execution_count": 3,
   "id": "921b320a-25ef-4c92-b38a-1771eed2abc2",
   "metadata": {},
   "outputs": [],
   "source": [
    "pd.set_option('display.max_rows', 30000)"
   ]
  },
  {
   "cell_type": "code",
   "execution_count": 4,
   "id": "d657010a-a8c7-4f91-a62c-893b59b1d5f7",
   "metadata": {},
   "outputs": [],
   "source": [
    "def load_housing_data(housing_path='datasets/housing'):\n",
    "    \"\"\"Loads Housing data into a pandas dataframe.\n",
    "    \n",
    "    # Arguments:\n",
    "        housing_path: the path where `housing.csv` exists\n",
    "    \n",
    "    # Returns:\n",
    "        data, pd.DataFrame: the housing data as a pandas dataframe\n",
    "    \"\"\"\n",
    "    data_path = os.path.join(housing_path, \"housing.csv\")\n",
    "    return pd.read_csv(data_path)"
   ]
  },
  {
   "cell_type": "code",
   "execution_count": 5,
   "id": "9f69c6cd-2941-4ab7-bb05-39ee72813cf8",
   "metadata": {},
   "outputs": [],
   "source": [
    "housing = load_housing_data()"
   ]
  },
  {
   "cell_type": "code",
   "execution_count": 6,
   "id": "944f4755-e380-414e-8ed2-be4030181881",
   "metadata": {},
   "outputs": [
    {
     "name": "stdout",
     "output_type": "stream",
     "text": [
      "<class 'pandas.core.frame.DataFrame'>\n",
      "RangeIndex: 20640 entries, 0 to 20639\n",
      "Data columns (total 10 columns):\n",
      " #   Column              Non-Null Count  Dtype  \n",
      "---  ------              --------------  -----  \n",
      " 0   longitude           20640 non-null  float64\n",
      " 1   latitude            20640 non-null  float64\n",
      " 2   housing_median_age  20640 non-null  float64\n",
      " 3   total_rooms         20640 non-null  float64\n",
      " 4   total_bedrooms      20433 non-null  float64\n",
      " 5   population          20640 non-null  float64\n",
      " 6   households          20640 non-null  float64\n",
      " 7   median_income       20640 non-null  float64\n",
      " 8   median_house_value  20640 non-null  float64\n",
      " 9   ocean_proximity     20640 non-null  object \n",
      "dtypes: float64(9), object(1)\n",
      "memory usage: 1.6+ MB\n"
     ]
    }
   ],
   "source": [
    "housing.info()"
   ]
  },
  {
   "cell_type": "markdown",
   "id": "42899781-eee4-428e-b792-dddf5938e3e7",
   "metadata": {},
   "source": [
    "all attribute are numerical except ocean_proximity"
   ]
  },
  {
   "cell_type": "markdown",
   "id": "cb442c3e-7c96-4a88-9e1b-928318b94e3a",
   "metadata": {},
   "source": [
    "## split train test set (stratified sampling)"
   ]
  },
  {
   "cell_type": "code",
   "execution_count": 7,
   "id": "d444b7ff-fd63-455b-996e-76848596e9dd",
   "metadata": {},
   "outputs": [],
   "source": [
    "# using median income to create strata\n",
    "housing['income_cat'] = pd.cut(x=housing['median_income'], \n",
    "                               bins=[0, 1.5, 3, 4.5, 6, np.inf], \n",
    "                               labels=[1, 2, 3, 4, 5])"
   ]
  },
  {
   "cell_type": "code",
   "execution_count": 8,
   "id": "fc5822e4-aaa3-4284-bf2c-d4a308b05bc8",
   "metadata": {},
   "outputs": [
    {
     "data": {
      "text/html": [
       "<div>\n",
       "<style scoped>\n",
       "    .dataframe tbody tr th:only-of-type {\n",
       "        vertical-align: middle;\n",
       "    }\n",
       "\n",
       "    .dataframe tbody tr th {\n",
       "        vertical-align: top;\n",
       "    }\n",
       "\n",
       "    .dataframe thead th {\n",
       "        text-align: right;\n",
       "    }\n",
       "</style>\n",
       "<table border=\"1\" class=\"dataframe\">\n",
       "  <thead>\n",
       "    <tr style=\"text-align: right;\">\n",
       "      <th></th>\n",
       "      <th>income_cat</th>\n",
       "      <th>median_income</th>\n",
       "    </tr>\n",
       "  </thead>\n",
       "  <tbody>\n",
       "    <tr>\n",
       "      <th>0</th>\n",
       "      <td>5</td>\n",
       "      <td>8.3252</td>\n",
       "    </tr>\n",
       "    <tr>\n",
       "      <th>1</th>\n",
       "      <td>5</td>\n",
       "      <td>8.3014</td>\n",
       "    </tr>\n",
       "    <tr>\n",
       "      <th>2</th>\n",
       "      <td>5</td>\n",
       "      <td>7.2574</td>\n",
       "    </tr>\n",
       "    <tr>\n",
       "      <th>3</th>\n",
       "      <td>4</td>\n",
       "      <td>5.6431</td>\n",
       "    </tr>\n",
       "    <tr>\n",
       "      <th>4</th>\n",
       "      <td>3</td>\n",
       "      <td>3.8462</td>\n",
       "    </tr>\n",
       "  </tbody>\n",
       "</table>\n",
       "</div>"
      ],
      "text/plain": [
       "  income_cat  median_income\n",
       "0          5         8.3252\n",
       "1          5         8.3014\n",
       "2          5         7.2574\n",
       "3          4         5.6431\n",
       "4          3         3.8462"
      ]
     },
     "execution_count": 8,
     "metadata": {},
     "output_type": "execute_result"
    }
   ],
   "source": [
    "housing[['income_cat','median_income']].head()"
   ]
  },
  {
   "cell_type": "code",
   "execution_count": 9,
   "id": "596fe02f-8e6b-4f39-b29d-01c2f04acc99",
   "metadata": {},
   "outputs": [],
   "source": [
    "from sklearn.model_selection import StratifiedShuffleSplit"
   ]
  },
  {
   "cell_type": "code",
   "execution_count": 10,
   "id": "a5a7aa77-2e27-4d27-802e-900402b70a80",
   "metadata": {},
   "outputs": [],
   "source": [
    "split = StratifiedShuffleSplit(n_splits=1, test_size=0.2, random_state=42)\n",
    "for train_index, test_index in split.split(X=housing, y=housing['income_cat']):\n",
    "    strat_train_set = housing.loc[train_index]\n",
    "    strat_test_set = housing.loc[test_index]"
   ]
  },
  {
   "cell_type": "markdown",
   "id": "404696a1-0026-4efa-b809-eeac76756cf2",
   "metadata": {},
   "source": [
    "Now that we have a test set that is representative of income_cat's distribution, it's time to remove it:"
   ]
  },
  {
   "cell_type": "code",
   "execution_count": 11,
   "id": "bdedd70d-9a89-48be-b52b-6ee5fab3d0b5",
   "metadata": {},
   "outputs": [],
   "source": [
    "for set_ in (strat_train_set, strat_test_set):\n",
    "    set_.drop('income_cat', axis=1, inplace=True)"
   ]
  },
  {
   "cell_type": "markdown",
   "id": "e9f6d5c9-9b29-4d4c-9154-557b07abf87f",
   "metadata": {},
   "source": [
    "## Prepare data for traing ML"
   ]
  },
  {
   "cell_type": "code",
   "execution_count": 12,
   "id": "90bb3014-ca19-4af9-a45f-0c7a8846ac72",
   "metadata": {},
   "outputs": [
    {
     "data": {
      "text/plain": [
       "((16512, 9), (16512,))"
      ]
     },
     "execution_count": 12,
     "metadata": {},
     "output_type": "execute_result"
    }
   ],
   "source": [
    "housing = strat_train_set.drop('median_house_value', axis = 1)\n",
    "housing_labels = strat_train_set['median_house_value'].copy()\n",
    "housing.shape, housing_labels.shape"
   ]
  },
  {
   "cell_type": "markdown",
   "id": "85b17151-c636-4109-9336-0b5584fe2876",
   "metadata": {},
   "source": [
    "### Data cleaning\n",
    "missing value"
   ]
  },
  {
   "cell_type": "code",
   "execution_count": 13,
   "id": "ae6c02fe-cda2-4c84-9a1e-9a5b79bf8823",
   "metadata": {},
   "outputs": [
    {
     "data": {
      "text/plain": [
       "longitude               0\n",
       "latitude                0\n",
       "housing_median_age      0\n",
       "total_rooms             0\n",
       "total_bedrooms        158\n",
       "population              0\n",
       "households              0\n",
       "median_income           0\n",
       "ocean_proximity         0\n",
       "dtype: int64"
      ]
     },
     "execution_count": 13,
     "metadata": {},
     "output_type": "execute_result"
    }
   ],
   "source": [
    "housing.isna().sum()"
   ]
  },
  {
   "cell_type": "markdown",
   "id": "cae5d63e-30df-4026-b263-3fbd326db3d1",
   "metadata": {},
   "source": [
    "### housing numerical columns"
   ]
  },
  {
   "cell_type": "code",
   "execution_count": 14,
   "id": "4822e5d0-0593-4562-89fc-0b8bc3a68bbd",
   "metadata": {
    "tags": []
   },
   "outputs": [],
   "source": [
    "housing_num = housing.drop('ocean_proximity', axis = 1)"
   ]
  },
  {
   "cell_type": "code",
   "execution_count": 15,
   "id": "0782f456-53b2-435c-8dc1-0569076a317b",
   "metadata": {},
   "outputs": [],
   "source": [
    "from sklearn.base import TransformerMixin, BaseEstimator"
   ]
  },
  {
   "cell_type": "code",
   "execution_count": 16,
   "id": "a25f49be-a977-418e-8f99-f1d5bb72fc28",
   "metadata": {},
   "outputs": [],
   "source": [
    "rooms_ix, bedrooms_ix, population_ix, households_ix = 3, 4, 5, 6"
   ]
  },
  {
   "cell_type": "code",
   "execution_count": null,
   "id": "049d8b61-cfe7-406f-95f2-cc13710df1b1",
   "metadata": {},
   "outputs": [],
   "source": []
  }
 ],
 "metadata": {
  "kernelspec": {
   "display_name": "Python 3",
   "language": "python",
   "name": "python3"
  },
  "language_info": {
   "codemirror_mode": {
    "name": "ipython",
    "version": 3
   },
   "file_extension": ".py",
   "mimetype": "text/x-python",
   "name": "python",
   "nbconvert_exporter": "python",
   "pygments_lexer": "ipython3",
   "version": "3.8.5"
  },
  "toc-autonumbering": true
 },
 "nbformat": 4,
 "nbformat_minor": 5
}

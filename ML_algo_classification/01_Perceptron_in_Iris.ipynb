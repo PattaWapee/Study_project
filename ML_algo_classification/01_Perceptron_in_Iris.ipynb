{
 "cells": [
  {
   "cell_type": "markdown",
   "id": "6f6e8d43-1636-4ae0-9b3a-9fa6b14009af",
   "metadata": {},
   "source": [
    "# Training a perceptron model on the Iris dataset"
   ]
  },
  {
   "cell_type": "code",
   "execution_count": 4,
   "id": "5f171ee9-2e5e-4f49-9659-ec742ae47d8d",
   "metadata": {},
   "outputs": [],
   "source": [
    "import os\n",
    "import pandas as pd\n",
    "import matplotlib.pyplot as plt\n",
    "import numpy as np"
   ]
  },
  {
   "cell_type": "code",
   "execution_count": 6,
   "id": "de6ead93-5147-4c8a-b220-6b23cbcedc9f",
   "metadata": {},
   "outputs": [],
   "source": [
    "import classifier\n",
    "import util"
   ]
  },
  {
   "cell_type": "code",
   "execution_count": 7,
   "id": "1b0fa45d-42a1-46b6-8436-ea3f9ef41aa9",
   "metadata": {},
   "outputs": [],
   "source": [
    "iris_db = 'https://archive.ics.uci.edu/ml/machine-learning-databases/iris/iris.data'\n",
    "df = pd.read_csv(iris_db, header = None, encoding = 'utf-8')"
   ]
  },
  {
   "cell_type": "code",
   "execution_count": 3,
   "id": "b6c20548-6cab-4343-bb22-7f754797322f",
   "metadata": {},
   "outputs": [
    {
     "ename": "NameError",
     "evalue": "name 'df' is not defined",
     "output_type": "error",
     "traceback": [
      "\u001b[0;31m---------------------------------------------------------------------------\u001b[0m",
      "\u001b[0;31mNameError\u001b[0m                                 Traceback (most recent call last)",
      "\u001b[0;32m<ipython-input-3-16d1a9235407>\u001b[0m in \u001b[0;36m<module>\u001b[0;34m\u001b[0m\n\u001b[0;32m----> 1\u001b[0;31m \u001b[0mdf\u001b[0m\u001b[0;34m[\u001b[0m\u001b[0;36m4\u001b[0m\u001b[0;34m]\u001b[0m\u001b[0;34m.\u001b[0m\u001b[0mvalue_counts\u001b[0m\u001b[0;34m(\u001b[0m\u001b[0;34m)\u001b[0m\u001b[0;34m\u001b[0m\u001b[0;34m\u001b[0m\u001b[0m\n\u001b[0m",
      "\u001b[0;31mNameError\u001b[0m: name 'df' is not defined"
     ]
    }
   ],
   "source": [
    "df[4].value_counts()"
   ]
  },
  {
   "cell_type": "markdown",
   "id": "7f4c2052-0bc1-4c69-b0dd-90b5b6180ca4",
   "metadata": {},
   "source": [
    "## only select settosa and versicolor\n",
    "* convert to class label 0 and 1 respectively\n",
    "* Use two features of sepal & petal length as input"
   ]
  },
  {
   "cell_type": "code",
   "execution_count": 8,
   "id": "da72b16a-615c-492c-a43b-6e10e0fb9257",
   "metadata": {},
   "outputs": [],
   "source": [
    "df = df[df[4].isin(['Iris-setosa', 'Iris-versicolor'])]"
   ]
  },
  {
   "cell_type": "code",
   "execution_count": 9,
   "id": "b0a426c3-05ef-4f35-84d9-8df7be9a44c9",
   "metadata": {},
   "outputs": [],
   "source": [
    "y = df[4].values\n",
    "y = np.where(y == 'Iris-setosa', 0, 1)"
   ]
  },
  {
   "cell_type": "code",
   "execution_count": 10,
   "id": "ca64d9aa-c687-4af3-a70f-60b808c9881d",
   "metadata": {},
   "outputs": [
    {
     "data": {
      "text/plain": [
       "array([0, 0, 0, 0, 0, 0, 0, 0, 0, 0, 0, 0, 0, 0, 0, 0, 0, 0, 0, 0, 0, 0,\n",
       "       0, 0, 0, 0, 0, 0, 0, 0, 0, 0, 0, 0, 0, 0, 0, 0, 0, 0, 0, 0, 0, 0,\n",
       "       0, 0, 0, 0, 0, 0, 1, 1, 1, 1, 1, 1, 1, 1, 1, 1, 1, 1, 1, 1, 1, 1,\n",
       "       1, 1, 1, 1, 1, 1, 1, 1, 1, 1, 1, 1, 1, 1, 1, 1, 1, 1, 1, 1, 1, 1,\n",
       "       1, 1, 1, 1, 1, 1, 1, 1, 1, 1, 1, 1])"
      ]
     },
     "execution_count": 10,
     "metadata": {},
     "output_type": "execute_result"
    }
   ],
   "source": [
    "y"
   ]
  },
  {
   "cell_type": "code",
   "execution_count": 11,
   "id": "b2734767-6bc1-4835-af6f-93b56665da92",
   "metadata": {},
   "outputs": [],
   "source": [
    "X = df.iloc[:,[0,2]].values"
   ]
  },
  {
   "cell_type": "code",
   "execution_count": 12,
   "id": "189cfeeb-2919-4b44-8874-7b9277c14311",
   "metadata": {},
   "outputs": [
    {
     "data": {
      "text/plain": [
       "array([[5.1, 1.4],\n",
       "       [4.9, 1.4],\n",
       "       [4.7, 1.3],\n",
       "       [4.6, 1.5],\n",
       "       [5. , 1.4]])"
      ]
     },
     "execution_count": 12,
     "metadata": {},
     "output_type": "execute_result"
    }
   ],
   "source": [
    "X[0:5]"
   ]
  },
  {
   "cell_type": "markdown",
   "id": "2094207f-16f9-4808-abc2-d299cfb28794",
   "metadata": {},
   "source": [
    "### plot data"
   ]
  },
  {
   "cell_type": "code",
   "execution_count": 13,
   "id": "2d04008d-430b-404f-8733-d5e78aea6db2",
   "metadata": {},
   "outputs": [
    {
     "data": {
      "image/png": "[encoded data removed]",
      "text/plain": [
       "<Figure size 432x288 with 1 Axes>"
      ]
     },
     "metadata": {
      "needs_background": "light"
     },
     "output_type": "display_data"
    }
   ],
   "source": [
    "plt.scatter(X[:50,0], X[:50,1],\n",
    "            color = 'red', marker = 'o', label= 'Setosa'\n",
    "           )\n",
    "\n",
    "plt.scatter(X[50:,0], X[50:,1],\n",
    "            color = 'blue', marker = 's', label= 'Versicolor'\n",
    "           )\n",
    "plt.xlabel('Sepal length')\n",
    "plt.xlabel('Petal length')\n",
    "plt.legend(loc = 'upper left')\n",
    "plt.show()"
   ]
  },
  {
   "cell_type": "markdown",
   "id": "7897204a-5a99-4b32-844b-27df32b8c9ae",
   "metadata": {},
   "source": [
    "## Train perceptron algorithm on Iris dataset"
   ]
  },
  {
   "cell_type": "code",
   "execution_count": 11,
   "id": "fabed4ed-d76f-42e0-be96-4cefad47027f",
   "metadata": {},
   "outputs": [],
   "source": [
    "ppn = perceptron.Perceptron(eta = 0.1, n_iter = 10)"
   ]
  },
  {
   "cell_type": "code",
   "execution_count": 12,
   "id": "8c4879d8-09d9-452c-930e-e4c586bb4b44",
   "metadata": {},
   "outputs": [
    {
     "data": {
      "text/plain": [
       "<perceptron.Perceptron at 0x120645c10>"
      ]
     },
     "execution_count": 12,
     "metadata": {},
     "output_type": "execute_result"
    }
   ],
   "source": [
    "ppn.fit(X,y)"
   ]
  },
  {
   "cell_type": "code",
   "execution_count": 13,
   "id": "cf6361f2-0565-4cae-8c4b-32510bb03d20",
   "metadata": {},
   "outputs": [
    {
     "data": {
      "text/plain": [
       "[2, 2, 3, 2, 1, 0, 0, 0, 0, 0]"
      ]
     },
     "execution_count": 13,
     "metadata": {},
     "output_type": "execute_result"
    }
   ],
   "source": [
    "ppn.errors_"
   ]
  },
  {
   "cell_type": "code",
   "execution_count": 14,
   "id": "38a6f8cd-a105-4701-9bdb-32be17a26e89",
   "metadata": {},
   "outputs": [
    {
     "data": {
      "text/plain": [
       "array([-0.35375655,  0.91388244])"
      ]
     },
     "execution_count": 14,
     "metadata": {},
     "output_type": "execute_result"
    }
   ],
   "source": [
    "ppn.w_"
   ]
  },
  {
   "cell_type": "code",
   "execution_count": 15,
   "id": "59d6d489-5677-456a-98b0-c53fff3e1e2e",
   "metadata": {},
   "outputs": [
    {
     "data": {
      "text/plain": [
       "-0.2"
      ]
     },
     "execution_count": 15,
     "metadata": {},
     "output_type": "execute_result"
    }
   ],
   "source": [
    "ppn.b_"
   ]
  },
  {
   "cell_type": "code",
   "execution_count": 16,
   "id": "db1913d8-4054-432a-973d-56e5751158f4",
   "metadata": {},
   "outputs": [
    {
     "data": {
      "image/png": "[encoded data removed]",
      "text/plain": [
       "<Figure size 432x288 with 1 Axes>"
      ]
     },
     "metadata": {
      "needs_background": "light"
     },
     "output_type": "display_data"
    }
   ],
   "source": [
    "plt.plot(range(1, len(ppn.errors_) + 1), \n",
    "         ppn.errors_ , marker = 'o')\n",
    "plt.xlabel('Epochs')\n",
    "plt.ylabel('Number of updates')\n",
    "plt.show()"
   ]
  },
  {
   "cell_type": "markdown",
   "id": "dd3dbe2a-96c3-4a2b-9969-add8aafef3c6",
   "metadata": {},
   "source": [
    "## plot decision region"
   ]
  },
  {
   "cell_type": "code",
   "execution_count": 17,
   "id": "3a249c45-f411-4ea3-948f-42ec871d24ab",
   "metadata": {},
   "outputs": [
    {
     "data": {
      "image/png": "[encoded data removed]",
      "text/plain": [
       "<Figure size 432x288 with 1 Axes>"
      ]
     },
     "metadata": {
      "needs_background": "light"
     },
     "output_type": "display_data"
    }
   ],
   "source": [
    "util.plot_decision_regions(X,y, classifier = ppn)"
   ]
  },
  {
   "cell_type": "markdown",
   "id": "2a83ca7b-b43a-4ef8-9cb3-807baa7e18ce",
   "metadata": {},
   "source": [
    "# Training Adaline model in different learning rate"
   ]
  },
  {
   "cell_type": "code",
   "execution_count": 14,
   "id": "e2af3cc8-ac3d-4ee5-82ea-b8eb147768d6",
   "metadata": {},
   "outputs": [],
   "source": [
    "ada1 = classifier.AdalineGD(n_iter = 15, eta = 0.1).fit(X,y)"
   ]
  },
  {
   "cell_type": "code",
   "execution_count": 17,
   "id": "0daab0a5-d14a-47c0-8bbb-28e8c1536147",
   "metadata": {},
   "outputs": [],
   "source": [
    "ada2 = classifier.AdalineGD(n_iter = 15, eta = 0.0001).fit(X,y)"
   ]
  },
  {
   "cell_type": "code",
   "execution_count": 19,
   "id": "9bc4c541-4ea0-4cbb-8a61-d548f93fc022",
   "metadata": {},
   "outputs": [
    {
     "data": {
      "text/plain": [
       "Text(0.5, 1.0, 'Adaline- learning rate 0.0001')"
      ]
     },
     "execution_count": 19,
     "metadata": {},
     "output_type": "execute_result"
    },
    {
     "data": {
      "image/png": "[encoded data removed]",
      "text/plain": [
       "<Figure size 720x288 with 2 Axes>"
      ]
     },
     "metadata": {
      "needs_background": "light"
     },
     "output_type": "display_data"
    }
   ],
   "source": [
    "fig, ax = plt.subplots(nrows = 1, ncols = 2, figsize = (10,4))\n",
    "ax[0].plot(range(1, len(ada1.losses_)+1),\n",
    "           np.log10(ada1.losses_), marker = 'o',\n",
    "          )\n",
    "ax[0].set_xlabel('Epochs')\n",
    "ax[0].set_ylabel('log(Mean squared error)')\n",
    "ax[0].set_title('Adaline- learning rate 0.1')\n",
    "\n",
    "ax[1].plot(range(1, len(ada2.losses_)+1),\n",
    "           np.log10(ada2.losses_), marker = 'o',\n",
    "          )\n",
    "ax[1].set_xlabel('Epochs')\n",
    "ax[1].set_ylabel('log(Mean squared error)')\n",
    "ax[1].set_title('Adaline- learning rate 0.0001')\n"
   ]
  },
  {
   "cell_type": "markdown",
   "id": "7d74061c-94f6-4bfa-8f91-b2d509bb5d9c",
   "metadata": {},
   "source": [
    "## improving gradient descent through feature scaling of Iris data"
   ]
  },
  {
   "cell_type": "code",
   "execution_count": 27,
   "id": "48dfed1c-dafb-49d1-bf44-fcbcbcf24d88",
   "metadata": {},
   "outputs": [],
   "source": [
    "X_std = np.copy(X)\n",
    "X_std[:,0] = (X[:,0] - X[:,0].mean()) / X[:,0].std()\n",
    "X_std[:,1] = (X[:,1] - X[:,1].mean()) / X[:,1].std()\n"
   ]
  },
  {
   "cell_type": "code",
   "execution_count": 28,
   "id": "c9c40db0-0b28-47c8-8996-44cb0ca12d6c",
   "metadata": {},
   "outputs": [
    {
     "data": {
      "text/plain": [
       "<classifier.AdalineGD at 0x1273a47f0>"
      ]
     },
     "execution_count": 28,
     "metadata": {},
     "output_type": "execute_result"
    }
   ],
   "source": [
    "ada_gd = classifier.AdalineGD(n_iter = 20, eta = 0.5)\n",
    "ada_gd.fit(X_std, y)"
   ]
  },
  {
   "cell_type": "code",
   "execution_count": 36,
   "id": "dd4f067b-67c4-4edd-b48c-9674f9291043",
   "metadata": {},
   "outputs": [
    {
     "data": {
      "text/plain": [
       "Text(0, 0.5, 'Petal length')"
      ]
     },
     "execution_count": 36,
     "metadata": {},
     "output_type": "execute_result"
    },
    {
     "data": {
      "image/png": "[encoded data removed]",
      "text/plain": [
       "<Figure size 432x288 with 1 Axes>"
      ]
     },
     "metadata": {
      "needs_background": "light"
     },
     "output_type": "display_data"
    }
   ],
   "source": [
    "util.plot_decision_regions(X_std, y, classifier = ada_gd)\n",
    "plt.title('Adaline Gradient decent')\n",
    "plt.xlabel('Sapal length')\n",
    "plt.ylabel('Petal length')\n",
    "plt\n",
    "\n",
    "plt.plot("
   ]
  },
  {
   "cell_type": "code",
   "execution_count": 33,
   "id": "d7f0aae9-b9f1-4c30-9a40-288eb413c3a6",
   "metadata": {},
   "outputs": [
    {
     "data": {
      "text/plain": [
       "[0.49424363585358444,\n",
       " 0.16533546753899678,\n",
       " 0.1132579515992755,\n",
       " 0.078888028632117,\n",
       " 0.056204696229401566,\n",
       " 0.04123423588290225,\n",
       " 0.03135408780733648,\n",
       " 0.024833424866070746,\n",
       " 0.020529942279736993,\n",
       " 0.017689746039309527,\n",
       " 0.015815284014122,\n",
       " 0.01457818362160078,\n",
       " 0.013761726760585917,\n",
       " 0.013222884634329945,\n",
       " 0.012867261635869069,\n",
       " 0.012632558907793521,\n",
       " 0.01247766068466254,\n",
       " 0.012375431538346799,\n",
       " 0.012307962731118418,\n",
       " 0.01226343492165436]"
      ]
     },
     "execution_count": 33,
     "metadata": {},
     "output_type": "execute_result"
    }
   ],
   "source": [
    "ada_gd.losses_"
   ]
  },
  {
   "cell_type": "code",
   "execution_count": null,
   "id": "6cf7a523-426c-4edd-b4fc-430da3a21cc2",
   "metadata": {},
   "outputs": [],
   "source": []
  },
  {
   "cell_type": "code",
   "execution_count": null,
   "id": "68da1144-9f57-453f-b5cf-ba4d55c8c439",
   "metadata": {},
   "outputs": [],
   "source": []
  },
  {
   "cell_type": "code",
   "execution_count": null,
   "id": "74b81746-e8a4-477e-bac0-68942d412d1c",
   "metadata": {},
   "outputs": [],
   "source": []
  },
  {
   "cell_type": "code",
   "execution_count": null,
   "id": "cc7d5f2f-a960-4ed0-a095-ca399976956c",
   "metadata": {},
   "outputs": [],
   "source": []
  },
  {
   "cell_type": "code",
   "execution_count": null,
   "id": "4999e702-5b44-4330-a18b-9cda976fc3fe",
   "metadata": {},
   "outputs": [],
   "source": []
  }
 ],
 "metadata": {
  "kernelspec": {
   "display_name": "Python 3",
   "language": "python",
   "name": "python3"
  },
  "language_info": {
   "codemirror_mode": {
    "name": "ipython",
    "version": 3
   },
   "file_extension": ".py",
   "mimetype": "text/x-python",
   "name": "python",
   "nbconvert_exporter": "python",
   "pygments_lexer": "ipython3",
   "version": "3.8.5"
  },
  "toc-autonumbering": true
 },
 "nbformat": 4,
 "nbformat_minor": 5
}

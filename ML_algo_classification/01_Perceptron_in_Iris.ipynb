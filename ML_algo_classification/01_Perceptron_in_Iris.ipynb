{
 "cells": [
  {
   "cell_type": "markdown",
   "id": "6f6e8d43-1636-4ae0-9b3a-9fa6b14009af",
   "metadata": {},
   "source": [
    "# Training a perceptron model on the Iris dataset"
   ]
  },
  {
   "cell_type": "code",
   "execution_count": 1,
   "id": "5f171ee9-2e5e-4f49-9659-ec742ae47d8d",
   "metadata": {},
   "outputs": [],
   "source": [
    "import os\n",
    "import pandas as pd\n",
    "import matplotlib.pyplot as plt\n",
    "import numpy as np"
   ]
  },
  {
   "cell_type": "code",
   "execution_count": 2,
   "id": "de6ead93-5147-4c8a-b220-6b23cbcedc9f",
   "metadata": {},
   "outputs": [],
   "source": [
    "import perceptron\n",
    "import util"
   ]
  },
  {
   "cell_type": "code",
   "execution_count": 3,
   "id": "1b0fa45d-42a1-46b6-8436-ea3f9ef41aa9",
   "metadata": {},
   "outputs": [],
   "source": [
    "iris_db = 'https://archive.ics.uci.edu/ml/machine-learning-databases/iris/iris.data'\n",
    "df = pd.read_csv(iris_db, header = None, encoding = 'utf-8')"
   ]
  },
  {
   "cell_type": "code",
   "execution_count": 4,
   "id": "b6c20548-6cab-4343-bb22-7f754797322f",
   "metadata": {},
   "outputs": [
    {
     "data": {
      "text/plain": [
       "Iris-setosa        50\n",
       "Iris-versicolor    50\n",
       "Iris-virginica     50\n",
       "Name: 4, dtype: int64"
      ]
     },
     "execution_count": 4,
     "metadata": {},
     "output_type": "execute_result"
    }
   ],
   "source": [
    "df[4].value_counts()"
   ]
  },
  {
   "cell_type": "markdown",
   "id": "7f4c2052-0bc1-4c69-b0dd-90b5b6180ca4",
   "metadata": {},
   "source": [
    "## only select settosa and versicolor\n",
    "* convert to class label 0 and 1 respectively\n",
    "* Use two features of sepal & petal length as input"
   ]
  },
  {
   "cell_type": "code",
   "execution_count": 5,
   "id": "da72b16a-615c-492c-a43b-6e10e0fb9257",
   "metadata": {},
   "outputs": [],
   "source": [
    "df = df[df[4].isin(['Iris-setosa', 'Iris-versicolor'])]"
   ]
  },
  {
   "cell_type": "code",
   "execution_count": 6,
   "id": "b0a426c3-05ef-4f35-84d9-8df7be9a44c9",
   "metadata": {},
   "outputs": [],
   "source": [
    "y = df[4].values\n",
    "y = np.where(y == 'Iris-setosa', 0, 1)"
   ]
  },
  {
   "cell_type": "code",
   "execution_count": 7,
   "id": "ca64d9aa-c687-4af3-a70f-60b808c9881d",
   "metadata": {},
   "outputs": [
    {
     "data": {
      "text/plain": [
       "array([0, 0, 0, 0, 0, 0, 0, 0, 0, 0, 0, 0, 0, 0, 0, 0, 0, 0, 0, 0, 0, 0,\n",
       "       0, 0, 0, 0, 0, 0, 0, 0, 0, 0, 0, 0, 0, 0, 0, 0, 0, 0, 0, 0, 0, 0,\n",
       "       0, 0, 0, 0, 0, 0, 1, 1, 1, 1, 1, 1, 1, 1, 1, 1, 1, 1, 1, 1, 1, 1,\n",
       "       1, 1, 1, 1, 1, 1, 1, 1, 1, 1, 1, 1, 1, 1, 1, 1, 1, 1, 1, 1, 1, 1,\n",
       "       1, 1, 1, 1, 1, 1, 1, 1, 1, 1, 1, 1])"
      ]
     },
     "execution_count": 7,
     "metadata": {},
     "output_type": "execute_result"
    }
   ],
   "source": [
    "y"
   ]
  },
  {
   "cell_type": "code",
   "execution_count": 8,
   "id": "b2734767-6bc1-4835-af6f-93b56665da92",
   "metadata": {},
   "outputs": [],
   "source": [
    "X = df.iloc[:,[0,2]].values"
   ]
  },
  {
   "cell_type": "code",
   "execution_count": 9,
   "id": "189cfeeb-2919-4b44-8874-7b9277c14311",
   "metadata": {},
   "outputs": [
    {
     "data": {
      "text/plain": [
       "array([[5.1, 1.4],\n",
       "       [4.9, 1.4],\n",
       "       [4.7, 1.3],\n",
       "       [4.6, 1.5],\n",
       "       [5. , 1.4]])"
      ]
     },
     "execution_count": 9,
     "metadata": {},
     "output_type": "execute_result"
    }
   ],
   "source": [
    "X[0:5]"
   ]
  },
  {
   "cell_type": "markdown",
   "id": "2094207f-16f9-4808-abc2-d299cfb28794",
   "metadata": {},
   "source": [
    "### plot data"
   ]
  },
  {
   "cell_type": "code",
   "execution_count": 10,
   "id": "2d04008d-430b-404f-8733-d5e78aea6db2",
   "metadata": {},
   "outputs": [
    {
     "data": {
      "image/png": "[encoded data removed]",
      "text/plain": [
       "<Figure size 432x288 with 1 Axes>"
      ]
     },
     "metadata": {
      "needs_background": "light"
     },
     "output_type": "display_data"
    }
   ],
   "source": [
    "plt.scatter(X[:50,0], X[:50,1],\n",
    "            color = 'red', marker = 'o', label= 'Setosa'\n",
    "           )\n",
    "\n",
    "plt.scatter(X[50:,0], X[50:,1],\n",
    "            color = 'blue', marker = 's', label= 'Versicolor'\n",
    "           )\n",
    "plt.xlabel('Sepal length')\n",
    "plt.xlabel('Petal length')\n",
    "plt.legend(loc = 'upper left')\n",
    "plt.show()"
   ]
  },
  {
   "cell_type": "markdown",
   "id": "7897204a-5a99-4b32-844b-27df32b8c9ae",
   "metadata": {},
   "source": [
    "## Train perceptron algorithm on Iris dataset"
   ]
  },
  {
   "cell_type": "code",
   "execution_count": 11,
   "id": "fabed4ed-d76f-42e0-be96-4cefad47027f",
   "metadata": {},
   "outputs": [],
   "source": [
    "ppn = perceptron.Perceptron(eta = 0.1, n_iter = 10)"
   ]
  },
  {
   "cell_type": "code",
   "execution_count": 12,
   "id": "8c4879d8-09d9-452c-930e-e4c586bb4b44",
   "metadata": {},
   "outputs": [
    {
     "data": {
      "text/plain": [
       "<perceptron.Perceptron at 0x120645c10>"
      ]
     },
     "execution_count": 12,
     "metadata": {},
     "output_type": "execute_result"
    }
   ],
   "source": [
    "ppn.fit(X,y)"
   ]
  },
  {
   "cell_type": "code",
   "execution_count": 13,
   "id": "cf6361f2-0565-4cae-8c4b-32510bb03d20",
   "metadata": {},
   "outputs": [
    {
     "data": {
      "text/plain": [
       "[2, 2, 3, 2, 1, 0, 0, 0, 0, 0]"
      ]
     },
     "execution_count": 13,
     "metadata": {},
     "output_type": "execute_result"
    }
   ],
   "source": [
    "ppn.errors_"
   ]
  },
  {
   "cell_type": "code",
   "execution_count": 14,
   "id": "38a6f8cd-a105-4701-9bdb-32be17a26e89",
   "metadata": {},
   "outputs": [
    {
     "data": {
      "text/plain": [
       "array([-0.35375655,  0.91388244])"
      ]
     },
     "execution_count": 14,
     "metadata": {},
     "output_type": "execute_result"
    }
   ],
   "source": [
    "ppn.w_"
   ]
  },
  {
   "cell_type": "code",
   "execution_count": 15,
   "id": "59d6d489-5677-456a-98b0-c53fff3e1e2e",
   "metadata": {},
   "outputs": [
    {
     "data": {
      "text/plain": [
       "-0.2"
      ]
     },
     "execution_count": 15,
     "metadata": {},
     "output_type": "execute_result"
    }
   ],
   "source": [
    "ppn.b_"
   ]
  },
  {
   "cell_type": "code",
   "execution_count": 16,
   "id": "db1913d8-4054-432a-973d-56e5751158f4",
   "metadata": {},
   "outputs": [
    {
     "data": {
      "image/png": "[encoded data removed]",
      "text/plain": [
       "<Figure size 432x288 with 1 Axes>"
      ]
     },
     "metadata": {
      "needs_background": "light"
     },
     "output_type": "display_data"
    }
   ],
   "source": [
    "plt.plot(range(1, len(ppn.errors_) + 1), \n",
    "         ppn.errors_ , marker = 'o')\n",
    "plt.xlabel('Epochs')\n",
    "plt.ylabel('Number of updates')\n",
    "plt.show()"
   ]
  },
  {
   "cell_type": "markdown",
   "id": "dd3dbe2a-96c3-4a2b-9969-add8aafef3c6",
   "metadata": {},
   "source": [
    "## plot decision region"
   ]
  },
  {
   "cell_type": "code",
   "execution_count": 17,
   "id": "3a249c45-f411-4ea3-948f-42ec871d24ab",
   "metadata": {},
   "outputs": [
    {
     "data": {
      "image/png": "[encoded data removed]",
      "text/plain": [
       "<Figure size 432x288 with 1 Axes>"
      ]
     },
     "metadata": {
      "needs_background": "light"
     },
     "output_type": "display_data"
    }
   ],
   "source": [
    "util.plot_decision_regions(X,y, classifier = ppn)"
   ]
  },
  {
   "cell_type": "code",
   "execution_count": null,
   "id": "1080c9f6-33a2-44c9-aff0-a7dd62eca73f",
   "metadata": {},
   "outputs": [],
   "source": []
  },
  {
   "cell_type": "code",
   "execution_count": null,
   "id": "e2af3cc8-ac3d-4ee5-82ea-b8eb147768d6",
   "metadata": {},
   "outputs": [],
   "source": []
  },
  {
   "cell_type": "code",
   "execution_count": null,
   "id": "9bc4c541-4ea0-4cbb-8a61-d548f93fc022",
   "metadata": {},
   "outputs": [],
   "source": []
  },
  {
   "cell_type": "code",
   "execution_count": null,
   "id": "cdc2388f-17f8-4d9a-a7c4-b9815464d517",
   "metadata": {},
   "outputs": [],
   "source": []
  },
  {
   "cell_type": "code",
   "execution_count": null,
   "id": "48dfed1c-dafb-49d1-bf44-fcbcbcf24d88",
   "metadata": {},
   "outputs": [],
   "source": []
  },
  {
   "cell_type": "code",
   "execution_count": null,
   "id": "c9c40db0-0b28-47c8-8996-44cb0ca12d6c",
   "metadata": {},
   "outputs": [],
   "source": []
  },
  {
   "cell_type": "code",
   "execution_count": null,
   "id": "dd4f067b-67c4-4edd-b48c-9674f9291043",
   "metadata": {},
   "outputs": [],
   "source": []
  },
  {
   "cell_type": "code",
   "execution_count": null,
   "id": "d7f0aae9-b9f1-4c30-9a40-288eb413c3a6",
   "metadata": {},
   "outputs": [],
   "source": []
  },
  {
   "cell_type": "code",
   "execution_count": null,
   "id": "68da1144-9f57-453f-b5cf-ba4d55c8c439",
   "metadata": {},
   "outputs": [],
   "source": []
  },
  {
   "cell_type": "code",
   "execution_count": null,
   "id": "74b81746-e8a4-477e-bac0-68942d412d1c",
   "metadata": {},
   "outputs": [],
   "source": []
  },
  {
   "cell_type": "code",
   "execution_count": null,
   "id": "cc7d5f2f-a960-4ed0-a095-ca399976956c",
   "metadata": {},
   "outputs": [],
   "source": []
  },
  {
   "cell_type": "code",
   "execution_count": null,
   "id": "4999e702-5b44-4330-a18b-9cda976fc3fe",
   "metadata": {},
   "outputs": [],
   "source": []
  }
 ],
 "metadata": {
  "kernelspec": {
   "display_name": "Python 3",
   "language": "python",
   "name": "python3"
  },
  "language_info": {
   "codemirror_mode": {
    "name": "ipython",
    "version": 3
   },
   "file_extension": ".py",
   "mimetype": "text/x-python",
   "name": "python",
   "nbconvert_exporter": "python",
   "pygments_lexer": "ipython3",
   "version": "3.8.5"
  },
  "toc-autonumbering": true
 },
 "nbformat": 4,
 "nbformat_minor": 5
}
